{
 "cells": [
  {
   "cell_type": "markdown",
   "metadata": {},
   "source": [
    "Raymond Adams\n",
    "Intelligent Systems Final Project\n",
    "Joseph Puliparambil\n",
    "22 November 2019\n",
    "\n",
    "This code was adapted from a post from Arsh Panghal on 01 January 2019\n",
    "\n",
    "This is a sentiment analysis using deep RNN on twitter tweets, movie reviews, and book reviews"
   ]
  },
  {
   "cell_type": "markdown",
   "metadata": {},
   "source": [
    "# Data Analysis"
   ]
  },
  {
   "cell_type": "code",
   "execution_count": 1,
   "metadata": {},
   "outputs": [
    {
     "name": "stderr",
     "output_type": "stream",
     "text": [
      "Using TensorFlow backend.\n"
     ]
    }
   ],
   "source": [
    "#All three are imported to help plot graphs\n",
    "import pandas as pd\n",
    "import matplotlib.pyplot as plt\n",
    "import seaborn as sns\n",
    "# this will be used for numpy arrays\n",
    "import numpy as np \n",
    "import csv\n",
    "import gc\n",
    "import os\n",
    "from nltk import TweetTokenizer\n",
    "from nltk.corpus import stopwords\n",
    "from sklearn.feature_extraction.text import TfidfVectorizer\n",
    "from keras.preprocessing.text import Tokenizer\n",
    "from keras.preprocessing.sequence import pad_sequences\n",
    "from keras.layers import Dense, Input, LSTM, Embedding, Dropout, Activation, Conv1D, GRU, CuDNNGRU, CuDNNLSTM, BatchNormalization\n",
    "from keras.layers import Bidirectional, GlobalMaxPool1D, MaxPooling1D, Add, Flatten\n",
    "from keras.layers import GlobalAveragePooling1D, GlobalMaxPooling1D, concatenate, SpatialDropout1D\n",
    "from keras.models import Model, load_model\n",
    "from keras import initializers, regularizers, constraints, optimizers, layers, callbacks\n",
    "from keras import backend as K\n",
    "from keras.engine import InputSpec, Layer\n",
    "from keras.optimizers import Adam\n",
    "from keras.callbacks import ModelCheckpoint, TensorBoard, Callback, EarlyStopping\n",
    "\n",
    "# I am using TensorFlow's backend tensorflow-gpu. Thus I set the \"use_gpu\"=True. I decided to run this program on the gpu so that the program can process more functions faster. There is a lot of data here so using the gpu will increase the speed of creating the neural network.\n",
    "use_gpu=True"
   ]
  },
  {
   "cell_type": "markdown",
   "metadata": {},
   "source": [
    "# Loading Data"
   ]
  },
  {
   "cell_type": "markdown",
   "metadata": {},
   "source": [
    "Here I import the data through the given directories using pandas. The csv files both have one column. The column title in 'train.csv' is represented as 'tweet;sentiment'. Each row contains a tweet and sentiment value (o or 1). The data in these files contain tweets, movie reviews, book reviews and reviews from numerous shopping sites. When pandas reads the csv it seperates the text in the row by \";\". Thus the comments are under 'tweet' and the values representing negative (val=0) or posistive (val=1) comments are under 'sentiment'. These values of 0's and 1's are used to train the network on what negative and positive comments are based on the words inside the comment and the patterns that they are used in. The row in 'test.csv' do not contain the sentiment values. Instead the model will try to predict the values."
   ]
  },
  {
   "cell_type": "code",
   "execution_count": 2,
   "metadata": {},
   "outputs": [],
   "source": [
    "train_data = pd.read_csv(\"question2/train.csv\",sep=';')\n",
    "test_data = pd.read_csv(\"question2/test.csv\",sep=';',quoting=csv.QUOTE_NONE)\n",
    "\n",
    "#this removes the users' username because this is not helpful in the sentiment analysis\n",
    "train_data['tweet'] = train_data['tweet'].apply(lambda x : ' '.join([w for w in x.split() if not w.startswith('@') ])  ) \n",
    "test_data['tweet'] = test_data['tweet'].apply(lambda x : ' '.join([w for w in x.split() if not w.startswith('@') ])  )"
   ]
  },
  {
   "cell_type": "markdown",
   "metadata": {},
   "source": [
    "# Preprocessing Data"
   ]
  },
  {
   "cell_type": "markdown",
   "metadata": {},
   "source": [
    "There are a group of words that are referred to as \"stop words\" in Natural Language Processing. The most common \"stop words\" are \"is\", \"are\", and \"have\". These words should not be learned by the NLP because they have no connection with sentiment and will not contribute nor hinder the accuracy of the model. Thus, removing them will save processing time. This code also removes symbols which are not useful."
   ]
  },
  {
   "cell_type": "code",
   "execution_count": 3,
   "metadata": {},
   "outputs": [],
   "source": [
    "text = list(train_data['tweet'].values) + list(test_data['tweet'].values)\n",
    "text = [i.lower() for i in text if i not in stopwords.words('english') and i not in ['.',',','/','@','\"','&amp','<br />','+/-','zzzzzzzzzzzzzzzzz',':-D',':D',':P',':)','!',';']]\n"
   ]
  },
  {
   "cell_type": "code",
   "execution_count": 4,
   "metadata": {},
   "outputs": [],
   "source": [
    "# set the target variable (predictor variable)\n",
    "y = train_data['sentiment']"
   ]
  },
  {
   "cell_type": "markdown",
   "metadata": {},
   "source": [
    "# Tokenize"
   ]
  },
  {
   "cell_type": "markdown",
   "metadata": {},
   "source": [
    "RNN requires the data to be in sequences. Keras Tokenizer() function converts the text in the train and test datasets to sequences. These sequences are then put through embedding matrices."
   ]
  },
  {
   "cell_type": "code",
   "execution_count": 5,
   "metadata": {},
   "outputs": [],
   "source": [
    "tkn = Tokenizer(lower = True, filters='')\n",
    "tkn.fit_on_texts(text)\n",
    "\n",
    "# takes the text and converts the sentence(s) into tokens. Tokens are basicaly strings of individual words or symbols.\n",
    "train_tkn = tkn.texts_to_sequences(train_data['tweet'])\n",
    "test_tkn = tkn.texts_to_sequences(test_data['tweet'])\n",
    "\n",
    "# this function 'pad_sequences()' converts a list of sequences, which  is just a list of integers, into a 2 dimensional Numpy array\n",
    "# the number of time_steps (max_len) is set to 50\n",
    "max_len = 50\n",
    "train_x = pad_sequences(train_tkn, maxlen = max_len)\n",
    "test_x = pad_sequences(test_tkn, maxlen = max_len)"
   ]
  },
  {
   "cell_type": "markdown",
   "metadata": {},
   "source": [
    "# Word Embedding"
   ]
  },
  {
   "cell_type": "markdown",
   "metadata": {},
   "source": [
    "Word embedding is a the natural language processing technique that maps words to a n-dimensional space. It is used to teach computers how words are used and related. In other words it is the way to represent words to a neural network"
   ]
  },
  {
   "cell_type": "code",
   "execution_count": 6,
   "metadata": {},
   "outputs": [],
   "source": [
    "# this variable hold the directory path to the word embeddings to be used\n",
    "path_to_embedding = \"word_embeddings\\glove_twitter.txt\"\n",
    "embedding_size = 200\n",
    "max_features = 30000\n",
    "\n",
    "def get_coefs(word,*arr): \n",
    "    return word, np.asarray(arr, dtype='float32')\n",
    "\n",
    "# creates a dictionary of the word embeddings. The words are grabbed from a text file.\n",
    "embedding_index = dict(get_coefs(*o.strip().split(\" \")) for o in open(path_to_embedding, encoding='utf-8'))"
   ]
  },
  {
   "cell_type": "code",
   "execution_count": 7,
   "metadata": {},
   "outputs": [],
   "source": [
    "word_index = tkn.word_index\n",
    "# takes the smallest of the two inputs\n",
    "nb_words = min(max_features, len(word_index))\n",
    "# returns an array of zeros with shape (nb_words + 1, embedding_size)\n",
    "matrix_embedding = np.zeros((nb_words + 1, embedding_size))\n",
    "\n",
    "for word, i in word_index.items():\n",
    "    if i >= max_features: continue\n",
    "    vector_embedding = embedding_index.get(word)\n",
    "    if vector_embedding is not None: matrix_embedding[i] = vector_embedding"
   ]
  },
  {
   "cell_type": "markdown",
   "metadata": {},
   "source": [
    "# Building The RNN Model"
   ]
  },
  {
   "cell_type": "code",
   "execution_count": 8,
   "metadata": {},
   "outputs": [],
   "source": [
    "history = None\n",
    "\n",
    "\n",
    "def build_model1(learning_rate =0.0, decay_rate =0.0, units=0, spatial_dr=0.0, kernel_size1=3, kernel_size2=2, dense_units=128, dr=0.1, conv_size=32):\n",
    "    \n",
    "    # declaring history as a global variable so that it can be called and plotted outside of build_model1()\n",
    "    global history \n",
    "    \n",
    "    file_path = \"best_model.hdf5\"\n",
    "    check_point = ModelCheckpoint(file_path, monitor = \"val_loss\", verbose = 1,\n",
    "                                  save_best_only = True, mode = \"min\")\n",
    "    # this will stop training when a monitored quantity has stopped improving. Will happend if 3 epochs goes by with no improvement \n",
    "    early_stop = EarlyStopping(monitor = \"val_loss\", mode = \"min\", patience = 3)\n",
    "    \n",
    "    intake = Input(shape = (max_len,))\n",
    "    x = Embedding(30001, embedding_size, weights = [matrix_embedding], trainable = False)(intake)\n",
    "    x1 = SpatialDropout1D(spatial_dr)(x)\n",
    "    \n",
    "    # connects 2 hidden layers that have opposite directions to the same output\n",
    "    # this allows the output layers to have information from past & future states\n",
    "    x_gru = Bidirectional(CuDNNGRU(units, return_sequences = True))(x1)\n",
    "    \n",
    "    # first convolution\n",
    "    # this is a 1 dimensional convolutional layer\n",
    "    x1 = Conv1D(conv_size, kernel_size=kernel_size1, padding='valid', kernel_initializer='he_uniform')(x_gru)\n",
    "    avg_pool1_gru = GlobalAveragePooling1D()(x1)\n",
    "    max_pool1_gru = GlobalMaxPooling1D()(x1)\n",
    "    \n",
    "    # second convolution\n",
    "    x2 = Conv1D(conv_size, kernel_size=kernel_size2, padding='valid', kernel_initializer='he_uniform')(x_gru)\n",
    "    avg_pool3_gru = GlobalAveragePooling1D()(x2)\n",
    "    max_pool3_gru = GlobalMaxPooling1D()(x2)\n",
    "    \n",
    "    x_lstm = Bidirectional(CuDNNLSTM(units, return_sequences = True))(x1)\n",
    "    \n",
    "    # first convolution\n",
    "    x1 = Conv1D(conv_size, kernel_size=kernel_size1, padding='valid', kernel_initializer='he_uniform')(x_lstm)\n",
    "    avg_pool1_lstm = GlobalAveragePooling1D()(x1)\n",
    "    max_pool1_lstm = GlobalMaxPooling1D()(x1)\n",
    "    \n",
    "    # second convolution\n",
    "    x2 = Conv1D(conv_size, kernel_size=kernel_size2, padding='valid', kernel_initializer='he_uniform')(x_lstm)\n",
    "    avg_pool3_lstm = GlobalAveragePooling1D()(x2)\n",
    "    max_pool3_lstm = GlobalMaxPooling1D()(x2)\n",
    "    \n",
    "    \n",
    "    x = concatenate([avg_pool1_gru, max_pool1_gru, avg_pool3_gru, max_pool3_gru,\n",
    "                    avg_pool1_lstm, max_pool1_lstm, avg_pool3_lstm, max_pool3_lstm])\n",
    "    x = BatchNormalization()(x)\n",
    "    x = Dropout(dr)(Dense(dense_units, activation='relu') (x))\n",
    "    x = BatchNormalization()(x)\n",
    "    x = Dropout(dr)(Dense(int(dense_units / 2), activation='relu') (x))\n",
    "    x = Dense(1, activation = \"sigmoid\")(x)\n",
    "    model = Model(inputs = intake, outputs = x)\n",
    "    model.compile(loss = \"binary_crossentropy\", optimizer = Adam(lr = learning_rate, decay = decay_rate), metrics = [\"accuracy\"])\n",
    "    history = model.fit(train_x, y, batch_size = 150, epochs = 10, validation_split=0.2, \n",
    "                        verbose = 1, callbacks = [check_point, early_stop])\n",
    "    model = load_model(file_path)\n",
    "    return model "
   ]
  },
  {
   "cell_type": "code",
   "execution_count": 9,
   "metadata": {},
   "outputs": [
    {
     "name": "stderr",
     "output_type": "stream",
     "text": [
      "WARNING: Logging before flag parsing goes to stderr.\n",
      "W1121 21:15:29.743158 57752 deprecation_wrapper.py:119] From C:\\Users\\Radam\\AppData\\Local\\Continuum\\anaconda3\\envs\\tf-gpu\\lib\\site-packages\\keras\\backend\\tensorflow_backend.py:74: The name tf.get_default_graph is deprecated. Please use tf.compat.v1.get_default_graph instead.\n",
      "\n",
      "W1121 21:15:29.799812 57752 deprecation_wrapper.py:119] From C:\\Users\\Radam\\AppData\\Local\\Continuum\\anaconda3\\envs\\tf-gpu\\lib\\site-packages\\keras\\backend\\tensorflow_backend.py:517: The name tf.placeholder is deprecated. Please use tf.compat.v1.placeholder instead.\n",
      "\n",
      "W1121 21:15:29.818496 57752 deprecation_wrapper.py:119] From C:\\Users\\Radam\\AppData\\Local\\Continuum\\anaconda3\\envs\\tf-gpu\\lib\\site-packages\\keras\\backend\\tensorflow_backend.py:4138: The name tf.random_uniform is deprecated. Please use tf.random.uniform instead.\n",
      "\n",
      "W1121 21:15:29.840512 57752 deprecation_wrapper.py:119] From C:\\Users\\Radam\\AppData\\Local\\Continuum\\anaconda3\\envs\\tf-gpu\\lib\\site-packages\\keras\\backend\\tensorflow_backend.py:174: The name tf.get_default_session is deprecated. Please use tf.compat.v1.get_default_session instead.\n",
      "\n",
      "W1121 21:15:29.841511 57752 deprecation_wrapper.py:119] From C:\\Users\\Radam\\AppData\\Local\\Continuum\\anaconda3\\envs\\tf-gpu\\lib\\site-packages\\keras\\backend\\tensorflow_backend.py:181: The name tf.ConfigProto is deprecated. Please use tf.compat.v1.ConfigProto instead.\n",
      "\n",
      "W1121 21:15:33.195326 57752 deprecation.py:506] From C:\\Users\\Radam\\AppData\\Local\\Continuum\\anaconda3\\envs\\tf-gpu\\lib\\site-packages\\keras\\backend\\tensorflow_backend.py:3445: calling dropout (from tensorflow.python.ops.nn_ops) with keep_prob is deprecated and will be removed in a future version.\n",
      "Instructions for updating:\n",
      "Please use `rate` instead of `keep_prob`. Rate should be set to `rate = 1 - keep_prob`.\n",
      "W1121 21:15:35.617263 57752 deprecation_wrapper.py:119] From C:\\Users\\Radam\\AppData\\Local\\Continuum\\anaconda3\\envs\\tf-gpu\\lib\\site-packages\\keras\\optimizers.py:790: The name tf.train.Optimizer is deprecated. Please use tf.compat.v1.train.Optimizer instead.\n",
      "\n",
      "W1121 21:15:35.627236 57752 deprecation.py:323] From C:\\Users\\Radam\\AppData\\Local\\Continuum\\anaconda3\\envs\\tf-gpu\\lib\\site-packages\\tensorflow\\python\\ops\\nn_impl.py:180: add_dispatch_support.<locals>.wrapper (from tensorflow.python.ops.array_ops) is deprecated and will be removed in a future version.\n",
      "Instructions for updating:\n",
      "Use tf.where in 2.0, which has the same broadcast rule as np.where\n"
     ]
    },
    {
     "name": "stdout",
     "output_type": "stream",
     "text": [
      "Train on 1026321 samples, validate on 256581 samples\n",
      "Epoch 1/10\n",
      "1026321/1026321 [==============================] - 631s 615us/step - loss: 0.5343 - acc: 0.7285 - val_loss: 0.4941 - val_acc: 0.7566\n",
      "\n",
      "Epoch 00001: val_loss improved from inf to 0.49406, saving model to best_model.hdf5\n",
      "Epoch 2/10\n",
      "1026321/1026321 [==============================] - 668s 651us/step - loss: 0.5102 - acc: 0.7452 - val_loss: 0.4840 - val_acc: 0.7628\n",
      "\n",
      "Epoch 00002: val_loss improved from 0.49406 to 0.48404, saving model to best_model.hdf5\n",
      "Epoch 3/10\n",
      "1026321/1026321 [==============================] - 672s 654us/step - loss: 0.5026 - acc: 0.7503 - val_loss: 0.4787 - val_acc: 0.7653\n",
      "\n",
      "Epoch 00003: val_loss improved from 0.48404 to 0.47872, saving model to best_model.hdf5\n",
      "Epoch 4/10\n",
      "1026321/1026321 [==============================] - 667s 650us/step - loss: 0.4980 - acc: 0.7532 - val_loss: 0.4771 - val_acc: 0.7667\n",
      "\n",
      "Epoch 00004: val_loss improved from 0.47872 to 0.47713, saving model to best_model.hdf5\n",
      "Epoch 5/10\n",
      "1026321/1026321 [==============================] - 668s 651us/step - loss: 0.4948 - acc: 0.7553 - val_loss: 0.4755 - val_acc: 0.7680\n",
      "\n",
      "Epoch 00005: val_loss improved from 0.47713 to 0.47548, saving model to best_model.hdf5\n",
      "Epoch 6/10\n",
      "1026321/1026321 [==============================] - 666s 649us/step - loss: 0.4927 - acc: 0.7564 - val_loss: 0.4742 - val_acc: 0.7688\n",
      "\n",
      "Epoch 00006: val_loss improved from 0.47548 to 0.47420, saving model to best_model.hdf5\n",
      "Epoch 7/10\n",
      "1026321/1026321 [==============================] - 669s 652us/step - loss: 0.4907 - acc: 0.7574 - val_loss: 0.4728 - val_acc: 0.7693\n",
      "\n",
      "Epoch 00007: val_loss improved from 0.47420 to 0.47280, saving model to best_model.hdf5\n",
      "Epoch 8/10\n",
      "1026321/1026321 [==============================] - 670s 652us/step - loss: 0.4891 - acc: 0.7587 - val_loss: 0.4724 - val_acc: 0.7707\n",
      "\n",
      "Epoch 00008: val_loss improved from 0.47280 to 0.47239, saving model to best_model.hdf5\n",
      "Epoch 9/10\n",
      "1026321/1026321 [==============================] - 667s 650us/step - loss: 0.4872 - acc: 0.7598 - val_loss: 0.4722 - val_acc: 0.7704\n",
      "\n",
      "Epoch 00009: val_loss improved from 0.47239 to 0.47222, saving model to best_model.hdf5\n",
      "Epoch 10/10\n",
      "1026321/1026321 [==============================] - 670s 653us/step - loss: 0.4862 - acc: 0.7605 - val_loss: 0.4712 - val_acc: 0.7711\n",
      "\n",
      "Epoch 00010: val_loss improved from 0.47222 to 0.47121, saving model to best_model.hdf5\n"
     ]
    }
   ],
   "source": [
    "# 'learning_rate' is the rate at which the model updates the weights in the units during back-propagation\n",
    "model = build_model1(learning_rate = 0.01, decay_rate = 0.001, units = 150, spatial_dr = 0.5, kernel_size1=4, kernel_size2=4, dense_units=64, dr=0.2, conv_size=32)"
   ]
  },
  {
   "cell_type": "markdown",
   "metadata": {},
   "source": [
    "# Accuracy"
   ]
  },
  {
   "cell_type": "code",
   "execution_count": 10,
   "metadata": {},
   "outputs": [
    {
     "data": {
      "image/png": "[encoded data removed]",
      "text/plain": [
       "<Figure size 432x288 with 1 Axes>"
      ]
     },
     "metadata": {
      "needs_background": "light"
     },
     "output_type": "display_data"
    }
   ],
   "source": [
    "# Plot training & validation accuracy values\n",
    "plt.plot(history.history['acc'])\n",
    "plt.plot(history.history['val_acc'])\n",
    "plt.title('Model accuracy')\n",
    "plt.ylabel('Accuracy')\n",
    "plt.xlabel('Epoch')\n",
    "plt.legend(['Train', 'Test'], loc='upper left')\n",
    "plt.show()"
   ]
  }
 ],
 "metadata": {
  "kernelspec": {
   "display_name": "Python 3",
   "language": "python",
   "name": "python3"
  },
  "language_info": {
   "codemirror_mode": {
    "name": "ipython",
    "version": 3
   },
   "file_extension": ".py",
   "mimetype": "text/x-python",
   "name": "python",
   "nbconvert_exporter": "python",
   "pygments_lexer": "ipython3",
   "version": "3.7.4"
  }
 },
 "nbformat": 4,
 "nbformat_minor": 2
}
